{
 "cells": [
  {
   "cell_type": "code",
   "execution_count": 3,
   "id": "35e2a83a-e263-47df-a8e0-ac68c50249c5",
   "metadata": {},
   "outputs": [
    {
     "data": {
      "text/plain": [
       "{'mean': [[20.0, 13.0, 50.0],\n",
       "  [5.666666666666667, 25.666666666666668, 51.666666666666664],\n",
       "  27.666666666666668],\n",
       " 'variance': [[314.0, 220.66666666666666, 898.6666666666666],\n",
       "  [4.222222222222222, 821.5555555555555, 316.22222222222223],\n",
       "  735.3333333333334],\n",
       " 'standard deviation': [[17.72004514666935,\n",
       "   14.854853303438128,\n",
       "   29.97776954122282],\n",
       "  [2.0548046676563256, 28.662790435607548, 17.78263822446552],\n",
       "  27.117030319216987],\n",
       " 'max': [[45, 34, 76], [8, 66, 76], 76],\n",
       " 'min': [[6, 2, 8], [3, 2, 34], 2],\n",
       " 'sum': [[60, 39, 150], [17, 77, 155], 249]}"
      ]
     },
     "execution_count": 3,
     "metadata": {},
     "output_type": "execute_result"
    }
   ],
   "source": [
    "import numpy as np\n",
    "\n",
    "def calculate(lst):\n",
    "    if len(lst) != 9:\n",
    "        raise ValueError(\"List must contain nine numbers.\")\n",
    "    \n",
    "    # Convert the list into a 3x3 NumPy array\n",
    "    arr = np.array(lst).reshape(3, 3)\n",
    "    \n",
    "    # Calculate the required values\n",
    "    calculations = {\n",
    "        'mean': [arr.mean(axis=0).tolist(), arr.mean(axis=1).tolist(), arr.mean().tolist()],\n",
    "        'variance': [arr.var(axis=0).tolist(), arr.var(axis=1).tolist(), arr.var().tolist()],\n",
    "        'standard deviation': [arr.std(axis=0).tolist(), arr.std(axis=1).tolist(), arr.std().tolist()],\n",
    "        'max': [arr.max(axis=0).tolist(), arr.max(axis=1).tolist(), arr.max().tolist()],\n",
    "        'min': [arr.min(axis=0).tolist(), arr.min(axis=1).tolist(), arr.min().tolist()],\n",
    "        'sum': [arr.sum(axis=0).tolist(), arr.sum(axis=1).tolist(), arr.sum().tolist()]\n",
    "    }\n",
    "    \n",
    "    return calculations\n",
    "calculate([6,3,8,9,2,66,45,34,76])"
   ]
  },
  {
   "cell_type": "code",
   "execution_count": null,
   "id": "a8b298b0-8e5d-40cb-9421-aa4b13687463",
   "metadata": {},
   "outputs": [],
   "source": []
  }
 ],
 "metadata": {
  "kernelspec": {
   "display_name": "Python 3 (ipykernel)",
   "language": "python",
   "name": "python3"
  },
  "language_info": {
   "codemirror_mode": {
    "name": "ipython",
    "version": 3
   },
   "file_extension": ".py",
   "mimetype": "text/x-python",
   "name": "python",
   "nbconvert_exporter": "python",
   "pygments_lexer": "ipython3",
   "version": "3.12.4"
  }
 },
 "nbformat": 4,
 "nbformat_minor": 5
}
